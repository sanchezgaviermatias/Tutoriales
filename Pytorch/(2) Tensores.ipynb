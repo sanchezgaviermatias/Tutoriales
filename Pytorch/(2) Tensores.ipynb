{
 "cells": [
  {
   "cell_type": "markdown",
   "id": "0a045ed1",
   "metadata": {},
   "source": [
    "# Tesnores\n",
    "---\n",
    "Las redes neuronales son transformaciones de representaciones de numeros flotantes a otro tip de representacion de numeros flotantes. <br>\n",
    "Estas representaciones de numeros flotantes son guardadas en Tensores. <br>\n",
    "Los Tensores son Matrices **multidimensionales**."
   ]
  },
  {
   "cell_type": "markdown",
   "id": "e29b17a7",
   "metadata": {},
   "source": [
    "<img src=\"img/redes_tensores.png\">"
   ]
  },
  {
   "cell_type": "code",
   "execution_count": 41,
   "id": "72f4703f",
   "metadata": {},
   "outputs": [
    {
     "data": {
      "text/plain": [
       "tensor([1., 1., 1.])"
      ]
     },
     "execution_count": 41,
     "metadata": {},
     "output_type": "execute_result"
    }
   ],
   "source": [
    "import torch\n",
    "a = torch.ones(3) \n",
    "a"
   ]
  },
  {
   "cell_type": "code",
   "execution_count": 42,
   "id": "18ec2fe2",
   "metadata": {},
   "outputs": [
    {
     "data": {
      "text/plain": [
       "tensor([[-0.0814,  2.2741,  1.1295],\n",
       "        [ 1.3342,  1.7585,  5.9387],\n",
       "        [-0.8565,  0.4561, -0.7343]])"
      ]
     },
     "execution_count": 42,
     "metadata": {},
     "output_type": "execute_result"
    }
   ],
   "source": [
    "#Distribución normal\n",
    "torch.normal(2,3,(3,3))"
   ]
  },
  {
   "cell_type": "code",
   "execution_count": 43,
   "id": "ae84fc0d",
   "metadata": {},
   "outputs": [
    {
     "data": {
      "text/plain": [
       "tensor([ 1., 60.,  1.])"
      ]
     },
     "execution_count": 43,
     "metadata": {},
     "output_type": "execute_result"
    }
   ],
   "source": [
    "#Syntax estilo numpy\n",
    "a[1] = 60\n",
    "a"
   ]
  },
  {
   "cell_type": "markdown",
   "id": "d4f9ed18",
   "metadata": {},
   "source": [
    "<img src=\"img/2_1.png\"/>"
   ]
  },
  {
   "cell_type": "code",
   "execution_count": 6,
   "id": "bb1f869b",
   "metadata": {},
   "outputs": [
    {
     "data": {
      "text/plain": [
       "tensor([[4., 1.],\n",
       "        [5., 3.],\n",
       "        [2., 1.]])"
      ]
     },
     "execution_count": 6,
     "metadata": {},
     "output_type": "execute_result"
    }
   ],
   "source": [
    "points = torch.tensor([[4.0, 1.0],\n",
    "                       [5.0, 3.0], \n",
    "                       [2.0, 1.0]])\n",
    "points"
   ]
  },
  {
   "cell_type": "code",
   "execution_count": 5,
   "id": "b420f958",
   "metadata": {},
   "outputs": [
    {
     "data": {
      "text/plain": [
       "torch.Size([3, 2])"
      ]
     },
     "execution_count": 5,
     "metadata": {},
     "output_type": "execute_result"
    }
   ],
   "source": [
    "# 3 Filas, 2 Columnas\n",
    "points.shape"
   ]
  },
  {
   "cell_type": "markdown",
   "id": "c6d5c100",
   "metadata": {},
   "source": [
    "## Tensores en Memoria"
   ]
  },
  {
   "cell_type": "markdown",
   "id": "288dc7c4",
   "metadata": {},
   "source": [
    "Los tensores se basan en:\n",
    "- Storage \n",
    "- Stride\n",
    "- Size\n",
    "- Offset"
   ]
  },
  {
   "cell_type": "markdown",
   "id": "5242a6ba",
   "metadata": {},
   "source": [
    "<img src=\"img/2_2.png\"/>"
   ]
  },
  {
   "cell_type": "markdown",
   "id": "c2a0eacb",
   "metadata": {},
   "source": [
    "En las listas, cada elemento es como un objeto, en cambio en los tensroes todos los elementos estan como un único objeto."
   ]
  },
  {
   "cell_type": "code",
   "execution_count": 46,
   "id": "f7fcf00c",
   "metadata": {},
   "outputs": [
    {
     "data": {
      "text/plain": [
       " 4.0\n",
       " 1.0\n",
       " 5.0\n",
       " 3.0\n",
       " 2.0\n",
       " 1.0\n",
       "[torch.FloatStorage of size 6]"
      ]
     },
     "execution_count": 46,
     "metadata": {},
     "output_type": "execute_result"
    }
   ],
   "source": [
    "points = torch.tensor([[4.0, 1.0],\n",
    "                       [5.0, 3.0], \n",
    "                       [2.0, 1.0]])\n",
    "#Valores en Memoria\n",
    "points.storage()"
   ]
  },
  {
   "cell_type": "markdown",
   "id": "4403216e",
   "metadata": {},
   "source": [
    "<img src=\"img/2_3.png\"/>"
   ]
  },
  {
   "cell_type": "code",
   "execution_count": 49,
   "id": "1bb1b3b6",
   "metadata": {},
   "outputs": [
    {
     "data": {
      "text/plain": [
       "tensor([[39.,  1.],\n",
       "        [ 5.,  3.],\n",
       "        [ 2.,  1.]])"
      ]
     },
     "execution_count": 49,
     "metadata": {},
     "output_type": "execute_result"
    }
   ],
   "source": [
    "points_storage = points.storage()\n",
    "points_storage[0] = 39.0\n",
    "points"
   ]
  },
  {
   "cell_type": "markdown",
   "id": "3659f81c",
   "metadata": {},
   "source": [
    "El stride define cada cuantos \"pasos\" se cambia en una dimensión"
   ]
  },
  {
   "cell_type": "code",
   "execution_count": 12,
   "id": "4a1d8f15",
   "metadata": {},
   "outputs": [
    {
     "data": {
      "text/plain": [
       "(2, 1)"
      ]
     },
     "execution_count": 12,
     "metadata": {},
     "output_type": "execute_result"
    }
   ],
   "source": [
    "points.stride()"
   ]
  },
  {
   "cell_type": "code",
   "execution_count": 13,
   "id": "b92df136",
   "metadata": {},
   "outputs": [
    {
     "data": {
      "text/plain": [
       " 2.0\n",
       " 1.0\n",
       " 5.0\n",
       " 3.0\n",
       " 2.0\n",
       " 1.0\n",
       "[torch.FloatStorage of size 6]"
      ]
     },
     "execution_count": 13,
     "metadata": {},
     "output_type": "execute_result"
    }
   ],
   "source": [
    "points.storage()"
   ]
  },
  {
   "cell_type": "markdown",
   "id": "30757277",
   "metadata": {},
   "source": [
    "Esto permite que varias operaciones tengan un coste computacional muy baja, porque solo se opera el mismo storage. "
   ]
  },
  {
   "cell_type": "code",
   "execution_count": 51,
   "id": "1c23fa86",
   "metadata": {},
   "outputs": [
    {
     "data": {
      "text/plain": [
       "True"
      ]
     },
     "execution_count": 51,
     "metadata": {},
     "output_type": "execute_result"
    }
   ],
   "source": [
    "#Sigue usando el mismo storage, solo cambia el stride\n",
    "points_t = points.t()\n",
    "points_t\n",
    "id(points.storage()) == id(points_t.storage())"
   ]
  },
  {
   "cell_type": "code",
   "execution_count": 15,
   "id": "5f2a37f0",
   "metadata": {},
   "outputs": [
    {
     "data": {
      "text/plain": [
       "(2, 1)"
      ]
     },
     "execution_count": 15,
     "metadata": {},
     "output_type": "execute_result"
    }
   ],
   "source": [
    "points.stride()"
   ]
  },
  {
   "cell_type": "code",
   "execution_count": 16,
   "id": "fa063d6e",
   "metadata": {},
   "outputs": [
    {
     "data": {
      "text/plain": [
       "(1, 2)"
      ]
     },
     "execution_count": 16,
     "metadata": {},
     "output_type": "execute_result"
    }
   ],
   "source": [
    "points_t.stride()"
   ]
  },
  {
   "cell_type": "code",
   "execution_count": 17,
   "id": "1f23ba3d",
   "metadata": {},
   "outputs": [
    {
     "data": {
      "text/plain": [
       "True"
      ]
     },
     "execution_count": 17,
     "metadata": {},
     "output_type": "execute_result"
    }
   ],
   "source": [
    "points.is_contiguous()"
   ]
  },
  {
   "cell_type": "code",
   "execution_count": 55,
   "id": "13828599",
   "metadata": {},
   "outputs": [
    {
     "data": {
      "text/plain": [
       "False"
      ]
     },
     "execution_count": 55,
     "metadata": {},
     "output_type": "execute_result"
    }
   ],
   "source": [
    "points_t.is_contiguous()"
   ]
  },
  {
   "cell_type": "code",
   "execution_count": 56,
   "id": "6c7702aa",
   "metadata": {},
   "outputs": [
    {
     "data": {
      "text/plain": [
       "tensor([[39.,  5.,  2.],\n",
       "        [ 1.,  3.,  1.]])"
      ]
     },
     "execution_count": 56,
     "metadata": {},
     "output_type": "execute_result"
    }
   ],
   "source": [
    "#transformar en contiguous\n",
    "points_t.contiguous()"
   ]
  },
  {
   "cell_type": "markdown",
   "id": "f47d1b3e",
   "metadata": {},
   "source": [
    "contiguous hace referencia a que el orden en memoria no es el mismo con el que se representa"
   ]
  },
  {
   "cell_type": "markdown",
   "id": "11523c82",
   "metadata": {},
   "source": [
    "## Types \n",
    "---\n",
    "Al igual que numpy, los tensores son elementos del mismo tipo. <br>\n",
    "Lista de Types: https://pytorch.org/docs/stable/tensors.html"
   ]
  },
  {
   "cell_type": "code",
   "execution_count": 19,
   "id": "22914e56",
   "metadata": {},
   "outputs": [],
   "source": [
    "# 1  Método\n",
    "double_points = torch.ones(10, 2, dtype=torch.double)\n",
    "short_points = torch.tensor([[1, 2], [3, 4]], dtype=torch.short)"
   ]
  },
  {
   "cell_type": "code",
   "execution_count": 20,
   "id": "f37a698f",
   "metadata": {},
   "outputs": [],
   "source": [
    "# 2 Método\n",
    "double_points = torch.zeros(10, 2).double()\n",
    "short_points = torch.ones(10, 2).short()"
   ]
  },
  {
   "cell_type": "code",
   "execution_count": 21,
   "id": "0ab1fa85",
   "metadata": {},
   "outputs": [],
   "source": [
    "# 3 Método\n",
    "double_points = torch.zeros(10, 2).to(torch.double)\n",
    "short_points = torch.ones(10, 2).to(dtype=torch.short)"
   ]
  },
  {
   "cell_type": "code",
   "execution_count": 59,
   "id": "9fc5c358",
   "metadata": {},
   "outputs": [
    {
     "data": {
      "text/plain": [
       "tensor([5., 2.])"
      ]
     },
     "execution_count": 59,
     "metadata": {},
     "output_type": "execute_result"
    }
   ],
   "source": [
    "# Subselección igual que Numpy\n",
    "points[1:]      \n",
    "points[1:, :]   \n",
    "points[1:, 0]   "
   ]
  },
  {
   "cell_type": "code",
   "execution_count": 60,
   "id": "f912dcc5",
   "metadata": {},
   "outputs": [
    {
     "data": {
      "text/plain": [
       "array([[1., 1., 1., 1.],\n",
       "       [1., 1., 1., 1.],\n",
       "       [1., 1., 1., 1.]], dtype=float32)"
      ]
     },
     "execution_count": 60,
     "metadata": {},
     "output_type": "execute_result"
    }
   ],
   "source": [
    "points = torch.ones(3, 4)\n",
    "points_np = points.numpy()\n",
    "points_np"
   ]
  },
  {
   "cell_type": "markdown",
   "id": "5bde97ff",
   "metadata": {},
   "source": [
    "Podemos Elegir en que aparato hacer las operaciones"
   ]
  },
  {
   "cell_type": "code",
   "execution_count": 64,
   "id": "226b1dc4",
   "metadata": {},
   "outputs": [],
   "source": [
    "points_gpu = torch.tensor([[4.0, 1.0], [5.0, 3.0], [2.0, 1.0]], device=\"cpu\")\n",
    "#points_gpu = points.to(device='cuda')\n",
    "points_cpu = points_gpu.to(device='cpu')"
   ]
  },
  {
   "cell_type": "markdown",
   "id": "dbbc45cb",
   "metadata": {},
   "source": [
    "<img src=\"img/dispatcher.png\"/> "
   ]
  },
  {
   "cell_type": "markdown",
   "id": "55014a44",
   "metadata": {},
   "source": [
    "### Ejemplo de Tensor en Memoria "
   ]
  },
  {
   "cell_type": "code",
   "execution_count": 77,
   "id": "a60f550e",
   "metadata": {},
   "outputs": [
    {
     "name": "stdout",
     "output_type": "stream",
     "text": [
      " 4.0\n",
      " 1.0\n",
      " 5.0\n",
      " 3.0\n",
      " 2.0\n",
      " 1.0\n",
      "[torch.FloatStorage of size 6]\n",
      "(2, 1)\n"
     ]
    }
   ],
   "source": [
    "points = torch.tensor([[4.0, 1.0],\n",
    "                       [5.0, 3.0], \n",
    "                       [2.0, 1.0]])\n",
    "#Valores en Memoria\n",
    "print( points.storage())\n",
    "#Stride\n",
    "print( points.stride())"
   ]
  },
  {
   "cell_type": "code",
   "execution_count": 80,
   "id": "0bcbcc08",
   "metadata": {},
   "outputs": [
    {
     "name": "stdout",
     "output_type": "stream",
     "text": [
      "tensor([1., 3., 1.])\n",
      " 4.0\n",
      " 1.0\n",
      " 5.0\n",
      " 3.0\n",
      " 2.0\n",
      " 1.0\n",
      "[torch.FloatStorage of size 6]\n",
      "(2,)\n",
      "1\n"
     ]
    }
   ],
   "source": [
    "points_sub = points[:,1]\n",
    "print(points_sub)\n",
    "print(points_sub.storage())\n",
    "print(points_sub.stride())\n",
    "print(points_sub.storage_offset())"
   ]
  },
  {
   "cell_type": "markdown",
   "id": "3fe1f72d",
   "metadata": {},
   "source": [
    "## Serializando Tensores\n",
    "\n",
    "No queremos reentrenar los modelos, por esto utilizamos métodos para guardar los parámetros (tensores):\n",
    "\n",
    "- Torch con pickle\n",
    "- HDF5"
   ]
  },
  {
   "cell_type": "code",
   "execution_count": 89,
   "id": "7d3a9eae",
   "metadata": {},
   "outputs": [],
   "source": [
    "#Pickle\n",
    "torch.save(points, \"extras/puntos.t\")"
   ]
  },
  {
   "cell_type": "code",
   "execution_count": 87,
   "id": "6342e79c",
   "metadata": {},
   "outputs": [
    {
     "data": {
      "text/plain": [
       "tensor([[4., 1.],\n",
       "        [5., 3.],\n",
       "        [2., 1.]])"
      ]
     },
     "execution_count": 87,
     "metadata": {},
     "output_type": "execute_result"
    }
   ],
   "source": [
    "torch.load( \"extras/puntos.t\")"
   ]
  },
  {
   "cell_type": "code",
   "execution_count": 98,
   "id": "c4b26fc8",
   "metadata": {},
   "outputs": [],
   "source": [
    "points2 = points.t"
   ]
  },
  {
   "cell_type": "code",
   "execution_count": 103,
   "id": "72c670fb",
   "metadata": {},
   "outputs": [],
   "source": [
    "import h5py\n",
    "\n",
    "f = h5py.File('extras/ourpoints2.hdf5', 'w')\n",
    "dset = f.create_dataset('coords', data=points.numpy())\n",
    "dset2 = f.create_dataset(\"transp\", data =points.numpy())\n",
    "f.close()"
   ]
  },
  {
   "cell_type": "code",
   "execution_count": 137,
   "id": "ad8b722b",
   "metadata": {},
   "outputs": [
    {
     "name": "stdout",
     "output_type": "stream",
     "text": [
      "<HDF5 dataset \"coords\": shape (3, 2), type \"<f4\">\n"
     ]
    }
   ],
   "source": [
    "f = h5py.File('extras/ourpoints2.hdf5', 'r')\n",
    "x = f['coords']\n",
    "y = f[\"transp\"]\n",
    "print(x)\n",
    "mi_tesnor = torch.from_numpy(x[-len(x):])\n",
    "f.close()"
   ]
  }
 ],
 "metadata": {
  "kernelspec": {
   "display_name": "Python 3",
   "language": "python",
   "name": "python3"
  },
  "language_info": {
   "codemirror_mode": {
    "name": "ipython",
    "version": 3
   },
   "file_extension": ".py",
   "mimetype": "text/x-python",
   "name": "python",
   "nbconvert_exporter": "python",
   "pygments_lexer": "ipython3",
   "version": "3.8.8"
  }
 },
 "nbformat": 4,
 "nbformat_minor": 5
}
